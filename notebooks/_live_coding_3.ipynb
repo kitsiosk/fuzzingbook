{
 "cells": [
  {
   "cell_type": "code",
   "execution_count": 1,
   "id": "7d7c232e-980b-42a5-b035-ac47b2ca635c",
   "metadata": {},
   "outputs": [],
   "source": [
    "import bookutils.setup\n",
    "from typing import Tuple, List, Callable, Set, Any\n",
    "from urllib.parse import urlparse\n",
    "import matplotlib.pyplot as plt\n",
    "import random\n",
    "from Fuzzer import Fuzzer, Runner\n",
    "from Coverage import Coverage, population_coverage, Location"
   ]
  },
  {
   "cell_type": "code",
   "execution_count": 2,
   "id": "f4e7e320-8649-4c62-88ee-514b354dd29c",
   "metadata": {},
   "outputs": [],
   "source": [
    "def urlparse_with_exceptions(url: str) -> bool:\n",
    "    supported_schemes = [\"http\", \"https\"]\n",
    "    result = urlparse(url)\n",
    "    if result.scheme not in supported_schemes:\n",
    "        raise ValueError(\"Scheme must be one of \" + \n",
    "                         repr(supported_schemes))\n",
    "    if result.netloc == '':\n",
    "        raise ValueError(\"Host must be non-empty\")\n",
    "\n",
    "    # Do something with the URL\n",
    "    return True"
   ]
  },
  {
   "cell_type": "code",
   "execution_count": 3,
   "id": "cb8ac523-b154-4c30-8985-2e18b07841e5",
   "metadata": {},
   "outputs": [],
   "source": [
    "def mutate(s: str, n_mutations: int = 1) -> str:\n",
    "    \"\"\"Return s with a random mutation applied\"\"\"\n",
    "    mutators = [\n",
    "        delete_random_character,\n",
    "        insert_random_character,\n",
    "        flip_random_character\n",
    "    ]\n",
    "\n",
    "    for i in range(n_mutations):\n",
    "        mutator = random.choice(mutators)\n",
    "        s = mutator(s)\n",
    "    return s"
   ]
  },
  {
   "cell_type": "code",
   "execution_count": 4,
   "id": "921b5892-5ba9-47c3-8026-2f0902a1d00e",
   "metadata": {},
   "outputs": [],
   "source": [
    "def delete_random_character(s: str) -> str:\n",
    "    \"\"\"Returns s with a random character deleted\"\"\"\n",
    "    if s == \"\":\n",
    "        return s\n",
    "\n",
    "    pos = random.randint(0, len(s) - 1)\n",
    "    return s[:pos] + s[pos + 1:]"
   ]
  },
  {
   "cell_type": "code",
   "execution_count": 5,
   "id": "2cb029eb-775c-42a9-8bb6-80a70f1ba553",
   "metadata": {},
   "outputs": [],
   "source": [
    "def insert_random_character(s: str) -> str:\n",
    "    \"\"\"Returns s with a random character inserted\"\"\"\n",
    "    pos = random.randint(0, len(s))\n",
    "    random_character = chr(random.randrange(32, 127))\n",
    "    return s[:pos] + random_character + s[pos:]"
   ]
  },
  {
   "cell_type": "code",
   "execution_count": 6,
   "id": "8cf2cb14-c834-4eeb-b7f1-51ac769d270b",
   "metadata": {},
   "outputs": [],
   "source": [
    "def flip_random_character(s):\n",
    "    \"\"\"Returns s with a random bit flipped in a random position\"\"\"\n",
    "    if s == \"\":\n",
    "        return s\n",
    "\n",
    "    pos = random.randint(0, len(s) - 1)\n",
    "    c = s[pos]\n",
    "    bit = 1 << random.randint(0, 6)\n",
    "    new_c = chr(ord(c) ^ bit)\n",
    "    return s[:pos] + new_c + s[pos + 1:]"
   ]
  },
  {
   "cell_type": "code",
   "execution_count": 7,
   "id": "710cefdf-9cc4-4db4-a465-839207a44931",
   "metadata": {},
   "outputs": [],
   "source": [
    "# Class that runs a function with a given input\n",
    "class FunctionRunner(Runner):\n",
    "    def __init__(self, function: Callable) -> None:\n",
    "        \"\"\"Initialize.  `function` is a function to be executed\"\"\"\n",
    "        self.function = function\n",
    "\n",
    "    def run_function(self, inp: str) -> Any:\n",
    "        return self.function(inp)\n",
    "\n",
    "    def run(self, inp: str) -> Tuple[Any, str]:\n",
    "        try:\n",
    "            result = self.run_function(inp)\n",
    "            outcome = self.PASS\n",
    "        except Exception:\n",
    "            result = None\n",
    "            outcome = self.FAIL\n",
    "\n",
    "        return result, outcome"
   ]
  },
  {
   "cell_type": "code",
   "execution_count": 8,
   "id": "d34c0907-f0ee-46be-b81f-f397fe1226c0",
   "metadata": {},
   "outputs": [],
   "source": [
    "# Extends the above to store the coverage as well\n",
    "class FunctionCoverageRunner(FunctionRunner):\n",
    "    def run_function(self, inp: str) -> Any:\n",
    "        with Coverage() as cov:\n",
    "            try:\n",
    "                result = super().run_function(inp)\n",
    "            except Exception as exc:\n",
    "                self._coverage = cov.coverage()\n",
    "                raise exc\n",
    "\n",
    "        self._coverage = cov.coverage()\n",
    "        return result\n",
    "\n",
    "    def coverage(self) -> Set[Location]:\n",
    "        return self._coverage"
   ]
  },
  {
   "cell_type": "code",
   "execution_count": 9,
   "id": "f463b069-c04d-496f-8d3f-8314f5f4d86c",
   "metadata": {},
   "outputs": [],
   "source": [
    "class MutationFuzzer(Fuzzer):\n",
    "    \"\"\"Base class for mutational fuzzing\"\"\"\n",
    "\n",
    "    def __init__(self, seed: List[str],\n",
    "                 min_mutations: int = 2,\n",
    "                 max_mutations: int = 10) -> None:\n",
    "        \"\"\"Constructor.\n",
    "        `seed` - a list of (input) strings to mutate.\n",
    "        `min_mutations` - the minimum number of mutations to apply.\n",
    "        `max_mutations` - the maximum number of mutations to apply.\n",
    "        \"\"\"\n",
    "        self.seed = seed\n",
    "        self.min_mutations = min_mutations\n",
    "        self.max_mutations = max_mutations\n",
    "        self.reset()\n",
    "\n",
    "    def reset(self) -> None:\n",
    "        self.population = self.seed\n",
    "        self.seed_index = 0\n",
    "\n",
    "    def mutate(self, inp: str) -> str:\n",
    "        return mutate(inp)\n",
    "\n",
    "    def create_candidate(self) -> str:\n",
    "        \"\"\"Create a new candidate by mutating a population member\"\"\"\n",
    "        candidate = random.choice(self.population)\n",
    "        trials = random.randint(self.min_mutations, self.max_mutations)\n",
    "        for i in range(trials):\n",
    "            candidate = self.mutate(candidate)\n",
    "        return candidate\n",
    "\n",
    "    def fuzz(self) -> str:\n",
    "        if self.seed_index < len(self.seed):\n",
    "            # Still seeding\n",
    "            self.inp = self.seed[self.seed_index]\n",
    "            self.seed_index += 1\n",
    "        else:\n",
    "            # Mutating\n",
    "            self.inp = self.create_candidate()\n",
    "        return self.inp"
   ]
  },
  {
   "cell_type": "code",
   "execution_count": null,
   "id": "bb9e2c1b-ecff-494c-a9ad-232d20d176be",
   "metadata": {},
   "outputs": [],
   "source": []
  },
  {
   "cell_type": "code",
   "execution_count": null,
   "id": "63d44cf4-ebc7-4859-b180-3258cfc9ad97",
   "metadata": {},
   "outputs": [],
   "source": []
  },
  {
   "cell_type": "code",
   "execution_count": null,
   "id": "052cdd2d-d2ae-4e10-b287-3b15932bad61",
   "metadata": {},
   "outputs": [],
   "source": []
  },
  {
   "cell_type": "code",
   "execution_count": null,
   "id": "ab5ef9b5-87cb-4475-abda-12e83af10b16",
   "metadata": {},
   "outputs": [],
   "source": []
  },
  {
   "cell_type": "markdown",
   "id": "9a291a04-93b5-472c-93e6-2b59c9789eb2",
   "metadata": {},
   "source": [
    "### For Greybox Fuzzing, we need to refactor our code in two classes: Runner and Fuzzer\n",
    "### The implementation is omitted from the live coding session but is provided in the materials"
   ]
  },
  {
   "cell_type": "code",
   "execution_count": 10,
   "id": "efdca5a2-eba8-4969-b16a-3cb6da42da85",
   "metadata": {},
   "outputs": [
    {
     "data": {
      "text/plain": [
       "(True, 'PASS')"
      ]
     },
     "execution_count": 10,
     "metadata": {},
     "output_type": "execute_result"
    }
   ],
   "source": [
    "# Runner: runs the program and returns coverage info\n",
    "runner = FunctionCoverageRunner(urlparse_with_exceptions)\n",
    "runner.run(\"https://foo.bar/\")\n",
    "# equivalent to \"urlparse_with_exceptions(\"https://foo.bar/\")\""
   ]
  },
  {
   "cell_type": "code",
   "execution_count": 12,
   "id": "193bf840-f710-4448-8fb4-036bf73fe2fd",
   "metadata": {},
   "outputs": [
    {
     "name": "stdout",
     "output_type": "stream",
     "text": [
      "[('_splitnetloc', 417), ('_coerce_args', 126), ('_splitnetloc', 414), ('urlsplit', 505), ('_coerce_args', 129), ('_coerce_args', 132), ('_noop', 109), ('urlparse_with_exceptions', 2), ('urlsplit', 474), ('urlsplit', 480), ('urlparse_with_exceptions', 11), ('urlparse', 397), ('urlsplit', 477), ('urlparse', 394), ('urlsplit', 489), ('urlparse', 400), ('urlsplit', 486), ('urlsplit', 492), ('urlparse', 401), ('urlsplit', 495)]\n"
     ]
    }
   ],
   "source": [
    "print(list(runner.coverage())[:20])"
   ]
  },
  {
   "cell_type": "code",
   "execution_count": 15,
   "id": "312fdcb9-e767-4743-86b9-b020cb35cee1",
   "metadata": {},
   "outputs": [],
   "source": [
    "class MutationCoverageFuzzer(MutationFuzzer):\n",
    "    \"\"\"Fuzz with mutated inputs based on coverage\"\"\"\n",
    "\n",
    "    def reset(self) -> None:\n",
    "        super().reset()\n",
    "        self.coverages_seen: Set[frozenset] = set()\n",
    "        # Now empty; we fill this with seed in the first fuzz runs\n",
    "        self.population = []\n",
    "    \n",
    "    def run(self, runner):\n",
    "        # Implement\n",
    "        result, outcome = super().run(runner)\n",
    "        new_coverage = frozenset(runner.coverage())\n",
    "        if new_coverage not in self.coverages_seen and outcome == 'PASS':\n",
    "            self.coverages_seen.add(new_coverage)\n",
    "            self.population.append(self.inp)"
   ]
  },
  {
   "cell_type": "code",
   "execution_count": 17,
   "id": "bb08f13d-c474-41a7-bb6d-baa7a2cf2aeb",
   "metadata": {},
   "outputs": [
    {
     "data": {
      "text/plain": [
       "['http://www.google.com/search?q=fuzzing',\n",
       " 'http://www.google.com/searcq=fuzzing',\n",
       " 'http://www.googlFe.comosee4rcq=fuzZing',\n",
       " 'http://www.google.com/3earch?q=fFUz#zing',\n",
       " 'http://www.googhe.com/;earc;h?q=fFU{#zing',\n",
       " 'http://*www/gooGhe.com/;erc;h?qfFU{zing',\n",
       " 'http://ww.goog,Fe.#o m/se#e4rcq=nuzZing',\n",
       " 'http://<wwU5w.googhecmm/;earc;hQ=tf|FU{#zing',\n",
       " 'http://wwU5w.gooRghecmm/;earc;hQ=tf|FU{zing',\n",
       " 'http://gwgooghe.com/;eqrc;hB/q=5fFU{#zing',\n",
       " 'http://gkwgooghe.cm/;eqrc;hB/q=fFU{zing']"
      ]
     },
     "execution_count": 17,
     "metadata": {},
     "output_type": "execute_result"
    }
   ],
   "source": [
    "seed_input = \"http://www.google.com/search?q=fuzzing\"\n",
    "mutation_coverage_fuzzer = MutationCoverageFuzzer(seed = [seed_input])\n",
    "mutation_coverage_fuzzer.runs(runner, 1000)\n",
    "mutation_coverage_fuzzer.population"
   ]
  },
  {
   "cell_type": "code",
   "execution_count": null,
   "id": "2b901adf-7e0c-4e8c-99b5-b32507512888",
   "metadata": {},
   "outputs": [],
   "source": []
  }
 ],
 "metadata": {
  "kernelspec": {
   "display_name": "Python 3 (ipykernel)",
   "language": "python",
   "name": "python3"
  },
  "language_info": {
   "codemirror_mode": {
    "name": "ipython",
    "version": 3
   },
   "file_extension": ".py",
   "mimetype": "text/x-python",
   "name": "python",
   "nbconvert_exporter": "python",
   "pygments_lexer": "ipython3",
   "version": "3.12.3"
  }
 },
 "nbformat": 4,
 "nbformat_minor": 5
}
