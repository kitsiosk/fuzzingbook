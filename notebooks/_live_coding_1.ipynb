{
 "cells": [
  {
   "cell_type": "code",
   "execution_count": 1,
   "id": "7343334d-5b89-41bc-9cc6-734c08f83792",
   "metadata": {},
   "outputs": [],
   "source": [
    "import random\n",
    "import tempfile\n",
    "import os\n",
    "import subprocess"
   ]
  },
  {
   "cell_type": "code",
   "execution_count": 33,
   "id": "1dc38896-8b37-446b-8241-43ecef0de99c",
   "metadata": {},
   "outputs": [],
   "source": [
    "def fuzzer(char_start = 32, char_length = 32, max_length = 100):\n",
    "    \n",
    "    length = random.randint(1, max_length)\n",
    "    s = ''\n",
    "    for i in range(length):\n",
    "        s += chr(random.randint(char_start, char_start+char_length))\n",
    "    \n",
    "    return s"
   ]
  },
  {
   "cell_type": "code",
   "execution_count": 60,
   "id": "2ff9bff7-705d-4a7c-b564-2a384a218f53",
   "metadata": {},
   "outputs": [],
   "source": [
    "trials = 1000\n",
    "all_results = []\n",
    "for i in range(trials):\n",
    "    FILE = 'input.txt'\n",
    "    with open(FILE, 'w') as f:\n",
    "        f.write(fuzzer())\n",
    "    \n",
    "    res = subprocess.run([\"bc\", FILE],\n",
    "                  stdout=subprocess.PIPE,\n",
    "                  stderr=subprocess.PIPE,\n",
    "                  universal_newlines = True)\n",
    "    all_results.append(res)"
   ]
  },
  {
   "cell_type": "code",
   "execution_count": 61,
   "id": "24e4d5b9-afe8-44e2-84ff-8a42616da7f6",
   "metadata": {},
   "outputs": [
    {
     "data": {
      "text/plain": [
       "67"
      ]
     },
     "execution_count": 61,
     "metadata": {},
     "output_type": "execute_result"
    }
   ],
   "source": [
    "sum([1 for x in all_results if x.stderr == ''])"
   ]
  },
  {
   "cell_type": "code",
   "execution_count": 65,
   "id": "61e04111-04ea-4614-8062-a86bae64ccf4",
   "metadata": {},
   "outputs": [
    {
     "data": {
      "text/plain": [
       "[CompletedProcess(args=['bc', 'input.txt'], returncode=3, stdout='', stderr='\\nRuntime error: variable or array element is the wrong type\\n    0: (main)\\n\\n'),\n",
       " CompletedProcess(args=['bc', 'input.txt'], returncode=1, stdout='', stderr='\\nMath error: divide by 0\\n    0: (main)\\n\\n'),\n",
       " CompletedProcess(args=['bc', 'input.txt'], returncode=1, stdout='', stderr='\\nMath error: divide by 0\\n    0: (main)\\n\\n')]"
      ]
     },
     "execution_count": 65,
     "metadata": {},
     "output_type": "execute_result"
    }
   ],
   "source": [
    "[x for x in all_results if \"Parse error\" not in x.stderr and x.stderr!='']"
   ]
  },
  {
   "cell_type": "code",
   "execution_count": null,
   "id": "2591c3f9-c578-4e0b-a74d-98b58cb5cf23",
   "metadata": {},
   "outputs": [],
   "source": []
  }
 ],
 "metadata": {
  "kernelspec": {
   "display_name": "Python 3 (ipykernel)",
   "language": "python",
   "name": "python3"
  },
  "language_info": {
   "codemirror_mode": {
    "name": "ipython",
    "version": 3
   },
   "file_extension": ".py",
   "mimetype": "text/x-python",
   "name": "python",
   "nbconvert_exporter": "python",
   "pygments_lexer": "ipython3",
   "version": "3.12.3"
  }
 },
 "nbformat": 4,
 "nbformat_minor": 5
}
