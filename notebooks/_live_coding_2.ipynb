{
 "cells": [
  {
   "cell_type": "code",
   "execution_count": 1,
   "id": "c593e5b7-19e6-4d66-9667-a0268fc0bf65",
   "metadata": {},
   "outputs": [],
   "source": [
    "import bookutils.setup\n",
    "from typing import Tuple, List, Callable, Set, Any\n",
    "from urllib.parse import urlparse\n",
    "from Fuzzer import fuzzer\n",
    "import random\n",
    "import matplotlib.pyplot as plt"
   ]
  },
  {
   "cell_type": "code",
   "execution_count": 2,
   "id": "8714edfc-99da-494b-a092-3704e183b190",
   "metadata": {},
   "outputs": [
    {
     "data": {
      "text/plain": [
       "ParseResult(scheme='http', netloc='www.google.com', path='/search', params='', query='q=fuzzing', fragment='')"
      ]
     },
     "execution_count": 2,
     "metadata": {},
     "output_type": "execute_result"
    }
   ],
   "source": [
    "url = \"http://www.google.com/search?q=fuzzing\"\n",
    "urlparse(url)"
   ]
  },
  {
   "cell_type": "code",
   "execution_count": 4,
   "id": "08c749da-7ccd-41e7-ac5b-a3efe39c7b7d",
   "metadata": {},
   "outputs": [
    {
     "data": {
      "text/plain": [
       "ParseResult(scheme='', netloc='', path='asdfasdfweqr7f8', params='', query='', fragment='')"
      ]
     },
     "execution_count": 4,
     "metadata": {},
     "output_type": "execute_result"
    }
   ],
   "source": [
    "urlparse(\"asdfasdfweqr7f8\")"
   ]
  },
  {
   "cell_type": "code",
   "execution_count": 10,
   "id": "9634c49c-a9b0-4c99-be66-5d7a6b7bdb9a",
   "metadata": {},
   "outputs": [],
   "source": [
    "def urlparse_that_crashes(url):\n",
    "    res = urlparse(url)\n",
    "    if res.scheme not in [\"http\", \"https\"]:\n",
    "        raise ValueError(\"Unsupported scheme\")\n",
    "\n",
    "    return res"
   ]
  },
  {
   "cell_type": "code",
   "execution_count": 54,
   "id": "9c1058f5-8fc3-4070-9e54-1d04704a4ade",
   "metadata": {},
   "outputs": [],
   "source": [
    "def mutate(s, num_of_mutations = 1):\n",
    "    mutators = [delete_random, insert_random, flip_random]\n",
    "\n",
    "    for i in range(num_of_mutations):\n",
    "        mutator_ind = random.randint(0, 2)\n",
    "        selected_mutator = mutators[mutator_ind]\n",
    "        s = selected_mutator(s)\n",
    "\n",
    "    return s\n",
    "    \n",
    "    "
   ]
  },
  {
   "cell_type": "code",
   "execution_count": 16,
   "id": "356d4ff2-deed-4b17-8cd1-5743c5ad983f",
   "metadata": {},
   "outputs": [],
   "source": [
    "def delete_random(s):\n",
    "    pos_to_delete = random.randint(0, len(s) - 1)\n",
    "    return s[:pos_to_delete-1] + s[pos_to_delete:]"
   ]
  },
  {
   "cell_type": "code",
   "execution_count": 18,
   "id": "a8b8bfb2-4852-4385-8e83-a5a987a9a65d",
   "metadata": {},
   "outputs": [
    {
     "name": "stdout",
     "output_type": "stream",
     "text": [
      "htp://www.google.com/search?q=fuzzing\n",
      "http//www.google.com/search?q=fuzzing\n",
      "http://www.google.com/search?q=fuzzig\n",
      "htp://www.google.com/search?q=fuzzing\n",
      "http://www.google.com/search?q=fuzzng\n",
      "http://ww.google.com/search?q=fuzzing\n",
      "htp://www.google.com/search?q=fuzzing\n",
      "http://www.googe.com/search?q=fuzzing\n",
      "http://www.google.com/searchq=fuzzing\n",
      "http://ww.google.com/search?q=fuzzing\n"
     ]
    }
   ],
   "source": [
    "for i in range(10):\n",
    "    print(delete_random(url))"
   ]
  },
  {
   "cell_type": "code",
   "execution_count": 21,
   "id": "11b98101-f89d-4f12-88f3-4ff359690824",
   "metadata": {},
   "outputs": [],
   "source": [
    "def insert_random(s):\n",
    "    pos_to_insert = random.randint(0, len(s)-1)\n",
    "    char_to_insert = chr(random.randint(32, 64))\n",
    "    return s[:pos_to_insert-1] + char_to_insert + s[pos_to_insert-1:]"
   ]
  },
  {
   "cell_type": "code",
   "execution_count": 22,
   "id": "acc547f7-8a21-4190-b897-72c69ab4fabb",
   "metadata": {},
   "outputs": [
    {
     "name": "stdout",
     "output_type": "stream",
     "text": [
      "http:///www.google.com/search?q=fuzzing\n",
      "http://www.google.com/search?q=f*uzzing\n",
      "http://www.google.com/sea-rch?q=fuzzing\n",
      "http://2www.google.com/search?q=fuzzing\n",
      "http://www.google.com/search?q=fu<zzing\n",
      "http://www.google.c om/search?q=fuzzing\n",
      ":http://www.google.com/search?q=fuzzing\n",
      "http://www.google.co*m/search?q=fuzzing\n",
      "http://www.google.com8/search?q=fuzzing\n",
      "http://www.google.com/search?q=fu5zzing\n"
     ]
    }
   ],
   "source": [
    "for i in range(10):\n",
    "    print(insert_random(url))"
   ]
  },
  {
   "cell_type": "code",
   "execution_count": 23,
   "id": "212a5878-6acb-4ad1-9e47-29202d0bb80d",
   "metadata": {},
   "outputs": [],
   "source": [
    "def flip_random(s):\n",
    "    pos_to_flip  = random.randint(0, len(s)-1)\n",
    "    char_to_flip = s[pos_to_flip] # char --> byte\n",
    "    bit_to_flip  = 1 << random.randint(0, 6) # 0010000 or 100000\n",
    "    flipped_char = chr(ord(char_to_flip) ^ bit_to_flip)\n",
    "\n",
    "    return s[:pos_to_flip] + flipped_char + s[pos_to_flip+1:]"
   ]
  },
  {
   "cell_type": "code",
   "execution_count": 24,
   "id": "92635dee-b04b-40d1-878c-b399826e8599",
   "metadata": {},
   "outputs": [
    {
     "name": "stdout",
     "output_type": "stream",
     "text": [
      "http://www.google.com/rearch?q=fuzzing\n",
      "http://www.google.com/search?q=guzzing\n",
      "htpp://www.google.com/search?q=fuzzing\n",
      "http://www.google\u000ecom/search?q=fuzzing\n",
      "http://www.google.com/search?q=fuz:ing\n",
      "http://www.google.com/search;q=fuzzing\n",
      "http://www.'oogle.com/search?q=fuzzing\n",
      "http:?/www.google.com/search?q=fuzzing\n",
      "http://www.google.com/search>q=fuzzing\n",
      "http://www.google.com/sEarch?q=fuzzing\n"
     ]
    }
   ],
   "source": [
    "for i in range(10):\n",
    "    print(flip_random(url))"
   ]
  },
  {
   "cell_type": "code",
   "execution_count": 65,
   "id": "aabeecfd-340b-4cdc-8eff-6eedb46ed2bd",
   "metadata": {},
   "outputs": [
    {
     "name": "stdout",
     "output_type": "stream",
     "text": [
      "i56pm7W4.eO1>:o<,u.!%a)omsarci1*?qFuZ{7h#g\n",
      "#iPp3s:/ww.)\u000f2o@ogLe.('?m/$c,)/9h:1=fuz3ahg\n",
      "`;d!;/w.9g(/'leSq<c\u0014h\u000fq>1fzi'9n,5'\n",
      "hutp1);%/www.ogle.Co4l/eark!?q=f5~h;tt;:/www.gkl+e=:5ol/seas*ch?q=uz+z'jg\n",
      "t$p\u0007::'gW&go.;(mgqo)5/syr=q=\u0006?x+in(g\n",
      "'/pt7:'$9w oct9)e<&co\"/c d?r >af%zxng\n",
      "@=8huu&4`::''w/ww)aode.*#1co9m/%'e\u0001r(a?q=fu>4zzbg\n",
      "3htt307w%/4g/27eco'+m/sfer>h=&Uzn/g\n",
      "-hv:/*%<wu8n%g'6+,>9e.3coM/osA!r=cH?!q=3$Qg\n",
      "#&t@p/wus/Bdd#$co,/g%/se3iv#cufZi0lg\n"
     ]
    }
   ],
   "source": [
    "for i in range(10):\n",
    "    print(mutate(url, 50))"
   ]
  },
  {
   "cell_type": "code",
   "execution_count": 81,
   "id": "88bbe2aa-55e8-4567-90a6-842facc9680f",
   "metadata": {},
   "outputs": [
    {
     "name": "stdout",
     "output_type": "stream",
     "text": [
      "0.25 are valid\n"
     ]
    }
   ],
   "source": [
    "trials = 1000\n",
    "n_valid = 0\n",
    "for i in range(trials):\n",
    "    try:\n",
    "        urlparse_that_crashes(mutate(url, 10))\n",
    "        n_valid += 1\n",
    "    except:\n",
    "        pass\n",
    "\n",
    "print(\"%0.2f are valid\" % (n_valid/ trials))"
   ]
  },
  {
   "cell_type": "code",
   "execution_count": null,
   "id": "55c2f1b4-12a7-4fa2-81b2-cf0c8a8540c6",
   "metadata": {},
   "outputs": [],
   "source": []
  }
 ],
 "metadata": {
  "kernelspec": {
   "display_name": "Python 3 (ipykernel)",
   "language": "python",
   "name": "python3"
  },
  "language_info": {
   "codemirror_mode": {
    "name": "ipython",
    "version": 3
   },
   "file_extension": ".py",
   "mimetype": "text/x-python",
   "name": "python",
   "nbconvert_exporter": "python",
   "pygments_lexer": "ipython3",
   "version": "3.12.3"
  }
 },
 "nbformat": 4,
 "nbformat_minor": 5
}
