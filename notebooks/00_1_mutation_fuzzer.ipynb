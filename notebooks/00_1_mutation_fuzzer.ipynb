{
 "cells": [
  {
   "cell_type": "code",
   "execution_count": 1,
   "id": "8b6a3f27-fceb-4a44-83d3-41c99ff3b91a",
   "metadata": {},
   "outputs": [],
   "source": [
    "import bookutils.setup\n",
    "from typing import Tuple, List, Callable, Set, Any\n",
    "from urllib.parse import urlparse\n",
    "from Fuzzer import fuzzer\n",
    "import random\n",
    "import matplotlib.pyplot as plt"
   ]
  },
  {
   "cell_type": "code",
   "execution_count": 2,
   "id": "5aff06f7-d606-43b3-84e2-ebd93152d467",
   "metadata": {},
   "outputs": [
    {
     "data": {
      "text/plain": [
       "ParseResult(scheme='http', netloc='www.google.com', path='/search', params='', query='q=fuzzing', fragment='')"
      ]
     },
     "execution_count": 2,
     "metadata": {},
     "output_type": "execute_result"
    }
   ],
   "source": [
    "url = \"http://www.google.com/search?q=fuzzing\"\n",
    "urlparse(url)"
   ]
  },
  {
   "cell_type": "code",
   "execution_count": 3,
   "id": "93d144bc-95d0-4347-b3dc-8ef6bfce9541",
   "metadata": {},
   "outputs": [],
   "source": [
    "def http_program(url: str) -> bool:\n",
    "    supported_schemes = [\"http\", \"https\"]\n",
    "    result = urlparse(url)\n",
    "    if result.scheme not in supported_schemes:\n",
    "        raise ValueError(\"Scheme must be one of \" + \n",
    "                         repr(supported_schemes))\n",
    "    if result.netloc == '':\n",
    "        raise ValueError(\"Host must be non-empty\")\n",
    "\n",
    "    # Do something with the URL\n",
    "    return True"
   ]
  },
  {
   "cell_type": "code",
   "execution_count": 4,
   "id": "03fe1ffe-28e7-40aa-ace8-167c7b4c9f88",
   "metadata": {},
   "outputs": [
    {
     "data": {
      "text/plain": [
       "True"
      ]
     },
     "execution_count": 4,
     "metadata": {},
     "output_type": "execute_result"
    }
   ],
   "source": [
    "http_program(url)"
   ]
  },
  {
   "cell_type": "code",
   "execution_count": 5,
   "id": "33c93509-8942-4d92-aaa2-d998e29a08d9",
   "metadata": {},
   "outputs": [
    {
     "data": {
      "text/plain": [
       "'\"N&+slk%h\\x7fyp5o\\'@[3(rW*M5W]tMFPU4\\\\P@tz%[X?uo\\\\1?b4T;1bDeYtHx #UJ5w}pMmPodJM,_'"
      ]
     },
     "execution_count": 5,
     "metadata": {},
     "output_type": "execute_result"
    }
   ],
   "source": [
    "fuzzer(char_start=32, char_range=96) # 96 printable ASCII characters exist"
   ]
  },
  {
   "cell_type": "markdown",
   "id": "0c0bdc73-b3bd-4794-9f53-0639220a46dc",
   "metadata": {},
   "source": [
    "---"
   ]
  },
  {
   "cell_type": "markdown",
   "id": "7e95d6a0-32ae-4d5e-8905-4b1e03db48ed",
   "metadata": {},
   "source": [
    "Let's try fuzzing 1000 times. How many valid URLs to expect?"
   ]
  },
  {
   "cell_type": "code",
   "execution_count": 6,
   "id": "e6970950-d874-452d-9a2c-e81f14d9e5b3",
   "metadata": {},
   "outputs": [],
   "source": [
    "for i in range(1000):\n",
    "    try:\n",
    "        url = fuzzer()\n",
    "        result = http_program(url)\n",
    "        print(\"Success!\")\n",
    "    except ValueError:\n",
    "        pass"
   ]
  },
  {
   "cell_type": "markdown",
   "id": "69139721-7653-421a-b4ae-d0cc25be14e4",
   "metadata": {},
   "source": [
    "---"
   ]
  },
  {
   "cell_type": "markdown",
   "id": "f8debf2e-40d1-4a32-8bb5-a3b96286117b",
   "metadata": {},
   "source": [
    "Let's build the function that mutates a given seed"
   ]
  },
  {
   "cell_type": "code",
   "execution_count": 7,
   "id": "61de7960-cc76-4d94-9751-ec8ad612290c",
   "metadata": {},
   "outputs": [],
   "source": [
    "def mutate(s: str) -> str:\n",
    "    \"\"\"Return s with a random mutation applied\"\"\"\n",
    "    mutators = [\n",
    "        delete_random_character,\n",
    "        insert_random_character,\n",
    "        flip_random_character\n",
    "    ]\n",
    "    mutator = random.choice(mutators)\n",
    "    return mutator(s)"
   ]
  },
  {
   "cell_type": "markdown",
   "id": "d1af1a03-bba0-4207-bd47-203e0ed5958b",
   "metadata": {},
   "source": [
    "Let's build our mutators\n",
    "\n",
    "A. Delete"
   ]
  },
  {
   "cell_type": "code",
   "execution_count": 8,
   "id": "91a11f10-30a1-406b-abc7-0cc503e11be9",
   "metadata": {},
   "outputs": [],
   "source": [
    "def delete_random_character(s: str) -> str:\n",
    "    \"\"\"Returns s with a random character deleted\"\"\"\n",
    "    if s == \"\":\n",
    "        return s\n",
    "\n",
    "    pos = random.randint(0, len(s) - 1)\n",
    "    return s[:pos] + s[pos + 1:]"
   ]
  },
  {
   "cell_type": "code",
   "execution_count": 9,
   "id": "52d1b292-9688-4f33-8eb9-514af7085394",
   "metadata": {},
   "outputs": [
    {
     "name": "stdout",
     "output_type": "stream",
     "text": [
      "'A qick brown fox'\n",
      "'A quck brown fox'\n",
      "'A quick bown fox'\n",
      "'A quik brown fox'\n",
      "' quick brown fox'\n",
      "'A quickbrown fox'\n",
      "' quick brown fox'\n",
      "'A qick brown fox'\n",
      "'A quick brown fx'\n",
      "'A qick brown fox'\n"
     ]
    }
   ],
   "source": [
    "# Example\n",
    "seed_input = \"A quick brown fox\"\n",
    "for i in range(10):\n",
    "    x = delete_random_character(seed_input)\n",
    "    print(repr(x))"
   ]
  },
  {
   "cell_type": "markdown",
   "id": "3043f00e-8b65-4480-90b8-5a2833cad13a",
   "metadata": {},
   "source": [
    "B. Insert"
   ]
  },
  {
   "cell_type": "code",
   "execution_count": 10,
   "id": "8b859dbe-7178-403c-81eb-7260b221ce0b",
   "metadata": {},
   "outputs": [],
   "source": [
    "def insert_random_character(s: str) -> str:\n",
    "    \"\"\"Returns s with a random character inserted\"\"\"\n",
    "    pos = random.randint(0, len(s))\n",
    "    random_character = chr(random.randrange(32, 127))\n",
    "    return s[:pos] + random_character + s[pos:]"
   ]
  },
  {
   "cell_type": "code",
   "execution_count": 11,
   "id": "2bcbfd0e-511b-4867-ad60-22d45c8e196c",
   "metadata": {},
   "outputs": [
    {
     "name": "stdout",
     "output_type": "stream",
     "text": [
      "'A qutick brown fox'\n",
      "'A quick brown foFx'\n",
      "'A quic?k brown fox'\n",
      "'A quick brown fHox'\n",
      "'A quick =brown fox'\n",
      "'A quick broAwn fox'\n",
      "'A quickA brown fox'\n",
      "'A quick brown jfox'\n",
      "'A quiLck brown fox'\n",
      "'A quick brown foxB'\n"
     ]
    }
   ],
   "source": [
    "for i in range(10):\n",
    "    print(repr(insert_random_character(seed_input)))"
   ]
  },
  {
   "cell_type": "markdown",
   "id": "7dcf27d3-3fbc-4065-8c81-750898e2bda9",
   "metadata": {},
   "source": [
    "C. Flip"
   ]
  },
  {
   "cell_type": "code",
   "execution_count": 12,
   "id": "6408a11e-c400-4cf4-9261-63b5860b3088",
   "metadata": {},
   "outputs": [],
   "source": [
    "def flip_random_character(s):\n",
    "    \"\"\"Returns s with a random bit flipped in a random position\"\"\"\n",
    "    if s == \"\":\n",
    "        return s\n",
    "\n",
    "    pos = random.randint(0, len(s) - 1)\n",
    "    c = s[pos]\n",
    "    bit = 1 << random.randint(0, 6)\n",
    "    new_c = chr(ord(c) ^ bit)\n",
    "    return s[:pos] + new_c + s[pos + 1:]"
   ]
  },
  {
   "cell_type": "code",
   "execution_count": 13,
   "id": "3b8587c4-c9ce-4f20-acc7-6f4464728e93",
   "metadata": {},
   "outputs": [
    {
     "name": "stdout",
     "output_type": "stream",
     "text": [
      "'A quick brkwn fox'\n",
      "'A quick brown f/x'\n",
      "'A quick broWn fox'\n",
      "'A q}ick brown fox'\n",
      "'A quyck brown fox'\n",
      "'A quibk brown fox'\n",
      "'A quick `rown fox'\n",
      "'A qqick brown fox'\n",
      "'A quick brown f/x'\n",
      "'A quick brown f\\x7fx'\n"
     ]
    }
   ],
   "source": [
    "for i in range(10):\n",
    "    print(repr(flip_random_character(seed_input)))"
   ]
  },
  {
   "cell_type": "markdown",
   "id": "02d57825-5980-4003-938e-8386fac7672f",
   "metadata": {},
   "source": [
    "Combine all the above"
   ]
  },
  {
   "cell_type": "code",
   "execution_count": 14,
   "id": "a5322916-180b-4501-a53e-130c98511b8d",
   "metadata": {},
   "outputs": [
    {
     "name": "stdout",
     "output_type": "stream",
     "text": [
      "'A quick broWn fox'\n",
      "'A quick brow~ fox'\n",
      "'A quick brownfox'\n",
      "'A qu)ck brown fox'\n",
      "'A quick brown ox'\n",
      "'A quick brown foxr'\n",
      "'A quick brown .fox'\n",
      "'A quick brown fo'\n",
      "'A quick brown ox'\n",
      "'A quick brownfox'\n"
     ]
    }
   ],
   "source": [
    "for i in range(10):\n",
    "    print(repr(mutate(\"A quick brown fox\")))"
   ]
  },
  {
   "cell_type": "markdown",
   "id": "d51c4c64-59cd-4d0d-a4e5-1d549a61b9d1",
   "metadata": {},
   "source": [
    "---"
   ]
  },
  {
   "cell_type": "markdown",
   "id": "0cb06748-0100-4baa-89c9-34b92b048fe3",
   "metadata": {},
   "source": [
    "What percentage of mutants are valid?"
   ]
  },
  {
   "cell_type": "code",
   "execution_count": 15,
   "id": "e972946e-7cfe-4871-be71-64e18c48393d",
   "metadata": {},
   "outputs": [
    {
     "name": "stdout",
     "output_type": "stream",
     "text": [
      "0.85% of inputs are valid\n"
     ]
    }
   ],
   "source": [
    "seed_input = \"http://www.google.com/search?q=fuzzing\"\n",
    "valid_inputs = set()\n",
    "trials = 20\n",
    "\n",
    "for i in range(trials):\n",
    "    inp = mutate(seed_input)\n",
    "    try:\n",
    "        result = http_program(inp)\n",
    "        valid_inputs.add(inp)\n",
    "    except:\n",
    "        pass\n",
    "\n",
    "perc = len(valid_inputs) / trials\n",
    "print(\"%0.2f%% of inputs are valid\" % perc)"
   ]
  },
  {
   "cell_type": "markdown",
   "id": "fa0d53d7-b12c-4945-920f-8c09406327b4",
   "metadata": {},
   "source": [
    "---"
   ]
  },
  {
   "cell_type": "markdown",
   "id": "3cfb74a2-4111-45f0-b377-444265194f6e",
   "metadata": {},
   "source": [
    "### Multiple Mutations"
   ]
  },
  {
   "cell_type": "code",
   "execution_count": 16,
   "id": "b9183700-f64a-4f81-8bcf-94b1800fc98d",
   "metadata": {},
   "outputs": [
    {
     "name": "stdout",
     "output_type": "stream",
     "text": [
      "0 mutations: 'http://www.google.com/search?q=fuzzing'\n",
      "5 mutations: 'RhttCpa:/#/www.google.co/search?q=fuzzing'\n",
      "10 mutations: 'RhttCa:/#/www.go1ogle*co/s%arch?q9fuzzing'\n",
      "15 mutations: 'RhtCa:/#/ww.go1gle*co/sn%arch?q9fuzzinw'\n",
      "20 mutations: 'RhtC[a:/#/w.go1ge*co/sn%a2c?q9fuzzinw'\n",
      "25 mutations: 'RhtC[a:/#/w.go1Qe*co/sn%a2c?q9foujznw'\n",
      "30 mutations: 'RhC[a:/#/rw.go1Qe|*so/sn%ac?q9foujznw'\n",
      "35 mutations: 'RhYC[ai:/#-rw.go1Qe|*so/szn%ac?q9fowjznw'\n",
      "40 mutations: 'RhYC[ai:/#-vrw.ggo1Qe|*so]/srn%ac?q9fowznw'\n",
      "45 mutations: 'RhYC\\x1bai:-vrw.gfo1Qe|*so]/ssn%ac?q9fowznw'\n"
     ]
    }
   ],
   "source": [
    "seed_input = \"http://www.google.com/search?q=fuzzing\"\n",
    "mutations = 50\n",
    "inp = seed_input\n",
    "for i in range(mutations):\n",
    "    if i % 5 == 0:\n",
    "        print(i, \"mutations:\", repr(inp))\n",
    "    inp = mutate(inp)"
   ]
  },
  {
   "cell_type": "markdown",
   "id": "d2232738-e070-44e4-b0e4-3f5c6ee61e64",
   "metadata": {},
   "source": [
    "What percentage of mutants are valid?"
   ]
  },
  {
   "cell_type": "code",
   "execution_count": 17,
   "id": "cecdb4dd-f3aa-4bb4-8c2d-b6f356e89fa5",
   "metadata": {},
   "outputs": [],
   "source": [
    "def mutate(s: str, n_mutations: int = 1) -> str:\n",
    "    \"\"\"Return s with a random mutation applied\"\"\"\n",
    "    mutators = [\n",
    "        delete_random_character,\n",
    "        insert_random_character,\n",
    "        flip_random_character\n",
    "    ]\n",
    "\n",
    "    for i in range(n_mutations):\n",
    "        mutator = random.choice(mutators)\n",
    "        s = mutator(s)\n",
    "    return s"
   ]
  },
  {
   "cell_type": "code",
   "execution_count": 18,
   "id": "d7d36a94-54d4-40b0-a629-3e4ca237a5e4",
   "metadata": {},
   "outputs": [
    {
     "name": "stdout",
     "output_type": "stream",
     "text": [
      "0.10% of inputs are valid\n"
     ]
    }
   ],
   "source": [
    "seed_input = \"http://www.google.com/search?q=fuzzing\"\n",
    "valid_inputs = set()\n",
    "trials = 20\n",
    "\n",
    "for i in range(trials):\n",
    "    inp = mutate(seed_input, n_mutations=10)\n",
    "    try:\n",
    "        result = http_program(inp)\n",
    "        valid_inputs.add(inp)\n",
    "    except:\n",
    "        pass\n",
    "\n",
    "perc = len(valid_inputs) / trials\n",
    "print(\"%0.2f%% of inputs are valid\" % perc)"
   ]
  },
  {
   "cell_type": "markdown",
   "id": "105c346a-e54d-478b-8a39-a31911c73625",
   "metadata": {},
   "source": [
    "- The input gets hardly recongnizable quickly\n",
    "- Risk of having invalid input\n",
    "- Key to success: **guide these mutations using coverage**!"
   ]
  },
  {
   "cell_type": "markdown",
   "id": "7fc15fe3-000b-4902-9e45-ed0c90e26a20",
   "metadata": {},
   "source": [
    "# Greybox Fuzzing"
   ]
  },
  {
   "cell_type": "markdown",
   "id": "3eb81934-0c6f-4f6b-a901-d84274d1e80d",
   "metadata": {},
   "source": [
    "First, some refactoring"
   ]
  },
  {
   "cell_type": "code",
   "execution_count": 19,
   "id": "94739a7d-4e66-48d6-ad3c-cd6931f13c02",
   "metadata": {},
   "outputs": [],
   "source": [
    "from Fuzzer import Fuzzer, Runner\n",
    "from Coverage import Coverage, population_coverage, Location"
   ]
  },
  {
   "cell_type": "code",
   "execution_count": 20,
   "id": "bd6bd1a4-ce13-41a9-8465-1b380df6bcd1",
   "metadata": {},
   "outputs": [],
   "source": [
    "# Class that runs a function with a given input\n",
    "class FunctionRunner(Runner):\n",
    "    def __init__(self, function: Callable) -> None:\n",
    "        \"\"\"Initialize.  `function` is a function to be executed\"\"\"\n",
    "        self.function = function\n",
    "\n",
    "    def run_function(self, inp: str) -> Any:\n",
    "        return self.function(inp)\n",
    "\n",
    "    def run(self, inp: str) -> Tuple[Any, str]:\n",
    "        try:\n",
    "            result = self.run_function(inp)\n",
    "            outcome = self.PASS\n",
    "        except Exception:\n",
    "            result = None\n",
    "            outcome = self.FAIL\n",
    "\n",
    "        return result, outcome"
   ]
  },
  {
   "cell_type": "code",
   "execution_count": 21,
   "id": "a096f6f0-2b59-4edc-a416-f855e7452dff",
   "metadata": {},
   "outputs": [
    {
     "data": {
      "text/plain": [
       "(True, 'PASS')"
      ]
     },
     "execution_count": 21,
     "metadata": {},
     "output_type": "execute_result"
    }
   ],
   "source": [
    "http_runner = FunctionRunner(http_program)\n",
    "http_runner.run(\"https://foo.bar/\")"
   ]
  },
  {
   "cell_type": "code",
   "execution_count": 22,
   "id": "b5b4ff46-babc-422c-9ae5-e374bf51de02",
   "metadata": {},
   "outputs": [],
   "source": [
    "# Extends the above to store the coverage as well\n",
    "class FunctionCoverageRunner(FunctionRunner):\n",
    "    def run_function(self, inp: str) -> Any:\n",
    "        with Coverage() as cov:\n",
    "            try:\n",
    "                result = super().run_function(inp)\n",
    "            except Exception as exc:\n",
    "                self._coverage = cov.coverage()\n",
    "                raise exc\n",
    "\n",
    "        self._coverage = cov.coverage()\n",
    "        return result\n",
    "\n",
    "    def coverage(self) -> Set[Location]:\n",
    "        return self._coverage"
   ]
  },
  {
   "cell_type": "code",
   "execution_count": 23,
   "id": "de08ba40-004e-4c8f-aa6d-12347ee32039",
   "metadata": {},
   "outputs": [],
   "source": [
    "class MutationFuzzer(Fuzzer):\n",
    "    \"\"\"Base class for mutational fuzzing\"\"\"\n",
    "\n",
    "    def __init__(self, seed: List[str],\n",
    "                 min_mutations: int = 2,\n",
    "                 max_mutations: int = 10) -> None:\n",
    "        \"\"\"Constructor.\n",
    "        `seed` - a list of (input) strings to mutate.\n",
    "        `min_mutations` - the minimum number of mutations to apply.\n",
    "        `max_mutations` - the maximum number of mutations to apply.\n",
    "        \"\"\"\n",
    "        self.seed = seed\n",
    "        self.min_mutations = min_mutations\n",
    "        self.max_mutations = max_mutations\n",
    "        self.reset()\n",
    "\n",
    "    def reset(self) -> None:\n",
    "        self.population = self.seed\n",
    "        self.seed_index = 0\n",
    "\n",
    "    def mutate(self, inp: str) -> str:\n",
    "        return mutate(inp)\n",
    "\n",
    "    def create_candidate(self) -> str:\n",
    "        \"\"\"Create a new candidate by mutating a population member\"\"\"\n",
    "        candidate = random.choice(self.population)\n",
    "        trials = random.randint(self.min_mutations, self.max_mutations)\n",
    "        for i in range(trials):\n",
    "            candidate = self.mutate(candidate)\n",
    "        return candidate\n",
    "\n",
    "    def fuzz(self) -> str:\n",
    "        if self.seed_index < len(self.seed):\n",
    "            # Still seeding\n",
    "            self.inp = self.seed[self.seed_index]\n",
    "            self.seed_index += 1\n",
    "        else:\n",
    "            # Mutating\n",
    "            self.inp = self.create_candidate()\n",
    "        return self.inp"
   ]
  },
  {
   "cell_type": "markdown",
   "id": "aa6b517b-1fa2-487d-9bd4-a0f8d1675610",
   "metadata": {},
   "source": [
    "### For Greybox Fuzzing, we need to refactor our code in two classes.\n",
    "### The implementation is omitted from the live coding session but is provided in the materials"
   ]
  },
  {
   "cell_type": "code",
   "execution_count": 24,
   "id": "8a35bacc-6791-44e1-8fb5-8fd716baffb6",
   "metadata": {},
   "outputs": [
    {
     "data": {
      "text/plain": [
       "(True, 'PASS')"
      ]
     },
     "execution_count": 24,
     "metadata": {},
     "output_type": "execute_result"
    }
   ],
   "source": [
    "http_runner = FunctionCoverageRunner(http_program)\n",
    "http_runner.run(\"https://foo.bar/\")\n",
    "# equivalent to \"http_program(\"https://foo.bar/\")"
   ]
  },
  {
   "cell_type": "code",
   "execution_count": 25,
   "id": "c1754f61-9657-441b-8e3f-060ef210ff5d",
   "metadata": {},
   "outputs": [
    {
     "name": "stdout",
     "output_type": "stream",
     "text": [
      "[('http_program', 7), ('urlparse', 395), ('http_program', 4), ('urlparse', 401), ('_coerce_args', 126)]\n"
     ]
    }
   ],
   "source": [
    "print(list(http_runner.coverage())[:5])"
   ]
  },
  {
   "cell_type": "code",
   "execution_count": 26,
   "id": "461ea125-19b3-431d-89d8-5e24382a73ba",
   "metadata": {},
   "outputs": [],
   "source": [
    "class MutationCoverageFuzzer(MutationFuzzer):\n",
    "    \"\"\"Fuzz with mutated inputs based on coverage\"\"\"\n",
    "\n",
    "    def reset(self) -> None:\n",
    "        super().reset()\n",
    "        self.coverages_seen: Set[frozenset] = set()\n",
    "        # Now empty; we fill this with seed in the first fuzz runs\n",
    "        self.population = []\n",
    "\n",
    "    def run(self, runner: FunctionCoverageRunner) -> Any:\n",
    "        \"\"\"Run function(inp) while tracking coverage.\n",
    "           If we reach new coverage,\n",
    "           add inp to population and its coverage to population_coverage\n",
    "        \"\"\"\n",
    "        result, outcome = super().run(runner) # just runs the function\n",
    "        new_coverage = frozenset(runner.coverage()) # the new coverage\n",
    "        if outcome == Runner.PASS and new_coverage not in self.coverages_seen: # the core of greybox fuzzing\n",
    "            # We have new coverage\n",
    "            self.population.append(self.inp)\n",
    "            self.coverages_seen.add(new_coverage)\n",
    "\n",
    "        return result"
   ]
  },
  {
   "cell_type": "code",
   "execution_count": 27,
   "id": "a24c069a-d9e6-47d0-a6eb-621d44508048",
   "metadata": {},
   "outputs": [
    {
     "data": {
      "text/plain": [
       "['http://www.google.com/search?q=fuzzing',\n",
       " 'http://www*googlacomsear#h?q=fuzz\\\\)ng',\n",
       " 'http://\\x7fww&oOgle.com/seirchq=fuZzmng',\n",
       " 'http://\\x7fww&oOele.co+seirfchq9fuZzmng',\n",
       " 'http://w\\x7fw.googl.com/searcNyhq=fuzzing;',\n",
       " 'http://www*googla?cmsar#h?q=fuzz\\\\)ng',\n",
       " 'http://www*g/oglacms;ear#h?=fuzz\\\\)nyg',\n",
       " 'http://ww*g/ooqcms;eaBrh?=fuzz\\\\)nyg',\n",
       " 'http://ww*g/ooq;cms;eaBr/=&uzz\\\\)nyg',\n",
       " 'http://ww*/ooqcs;e/aBrh?=fuzz\\\\)nyg',\n",
       " 'http://ww*/ooqcs;a/#aBrh?=fuzz~\\\\)yf',\n",
       " 'http://ww+/ooqcs;a?#aBkrh3?=fUzz~\\x1cy',\n",
       " 'http://ww*/oo/ks;e/i@(r?=fuzz\\\\#nxg']"
      ]
     },
     "execution_count": 27,
     "metadata": {},
     "output_type": "execute_result"
    }
   ],
   "source": [
    "seed_input = \"http://www.google.com/search?q=fuzzing\"\n",
    "mutation_fuzzer = MutationCoverageFuzzer(seed=[seed_input])\n",
    "mutation_fuzzer.runs(http_runner, trials=10000) # runs() --> call run() 10000 times\n",
    "mutation_fuzzer.population"
   ]
  },
  {
   "cell_type": "markdown",
   "id": "378d74c4-1063-42f9-8408-d6177c502723",
   "metadata": {},
   "source": [
    "Success! In our population, each and every input now is valid and has a different coverage, coming from various combinations of schemes, paths, queries, and fragments."
   ]
  },
  {
   "cell_type": "code",
   "execution_count": 122,
   "id": "60507daf-4ef1-4b96-9073-904afb725593",
   "metadata": {},
   "outputs": [
    {
     "data": {
      "image/png": "[encoded data removed]",
      "text/plain": [
       "<Figure size 640x480 with 1 Axes>"
      ]
     },
     "metadata": {},
     "output_type": "display_data"
    }
   ],
   "source": [
    "all_coverage, cumulative_coverage = population_coverage(\n",
    "    mutation_fuzzer.population, http_program)\n",
    "plt.plot(cumulative_coverage)\n",
    "plt.title('Coverage of urlparse() with random inputs')\n",
    "plt.xlabel('# of inputs')\n",
    "plt.ylabel('lines covered');"
   ]
  },
  {
   "cell_type": "code",
   "execution_count": null,
   "id": "e8bc71ff-b8e3-4caf-99bc-9a713172f64c",
   "metadata": {},
   "outputs": [],
   "source": []
  }
 ],
 "metadata": {
  "kernelspec": {
   "display_name": "Python 3 (ipykernel)",
   "language": "python",
   "name": "python3"
  },
  "language_info": {
   "codemirror_mode": {
    "name": "ipython",
    "version": 3
   },
   "file_extension": ".py",
   "mimetype": "text/x-python",
   "name": "python",
   "nbconvert_exporter": "python",
   "pygments_lexer": "ipython3",
   "version": "3.12.3"
  }
 },
 "nbformat": 4,
 "nbformat_minor": 5
}
