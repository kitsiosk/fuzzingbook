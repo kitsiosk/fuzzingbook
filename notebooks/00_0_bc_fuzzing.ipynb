{
 "cells": [
  {
   "cell_type": "code",
   "execution_count": 1,
   "id": "e1e96296-6650-48be-9211-d17574c80f49",
   "metadata": {},
   "outputs": [],
   "source": [
    "import random\n",
    "import tempfile\n",
    "import os\n",
    "import subprocess"
   ]
  },
  {
   "cell_type": "code",
   "execution_count": 2,
   "id": "85ee0529-cfda-4ee5-bfca-629b852ff623",
   "metadata": {},
   "outputs": [],
   "source": [
    "# Create a vanilla fuzzer\n",
    "def fuzzer(max_length: int = 100, char_start: int = 32, char_range: int = 32) -> str:\n",
    "    \"\"\"A string of up to `max_length` characters\n",
    "       in the range [`char_start`, `char_start` + `char_range`)\"\"\"\n",
    "    string_length = random.randrange(0, max_length + 1)\n",
    "    out = \"\"\n",
    "    for i in range(0, string_length):\n",
    "        out += chr(random.randrange(char_start, char_start + char_range))\n",
    "    return out"
   ]
  },
  {
   "cell_type": "code",
   "execution_count": 3,
   "id": "472e94f9-00ba-4b5f-a3a4-48147529ed86",
   "metadata": {},
   "outputs": [
    {
     "data": {
      "text/plain": [
       "'+\\'!$+75)%5/>?3&45! 0.\"('"
      ]
     },
     "execution_count": 3,
     "metadata": {},
     "output_type": "execute_result"
    }
   ],
   "source": [
    "fuzzer()"
   ]
  },
  {
   "cell_type": "code",
   "execution_count": 19,
   "id": "385b41eb-a79c-48bb-9d6e-3f2e333c3b76",
   "metadata": {},
   "outputs": [
    {
     "data": {
      "text/plain": [
       "'ggwnlzfhgeimqjzstbjebozhdyduhioqodvpujowimljsjaktpuijsvyivpozxtgktssmplchzzejzzdzqarimoaabwpixwzykvstizzrmalytnglepkgyhwjrjkeczycmhhbsjbjlsiwdzcfouxiizltbbmkvlkzuilnfjpwnyjnvnxndhntuewdpisgcpypgzxqnwynbolkfcikczeruuyrnoxesraxxijvdacznuoskslgodhlxkodqhboiocmmabenoxmwkiyzkccbokhdwnxkzztxqibscczhwxhozigkzzcgqeuutwmxprmiznmchiaxdazxrpgflhqzfsvpzsfjiojsmhaihvnpssrymtpwgojdcybfkowplojsbcapnticyzlitfnxpgdcxdfilwotvrgryfsilctzonegdgydstkgysllagjwjsihnofzrjjyokpoxubdxgjpukhrpppoejafoyplccuhjcabkjuzdopsrboibzbxsezzufizeumodiipxbocfcucqpcfmvzncmrheughunxspjiblknnvlpsvrwmllvdtktjccmtsldsuvshoxpdcqyhznhcracugolxvgqrjiwa'"
      ]
     },
     "execution_count": 19,
     "metadata": {},
     "output_type": "execute_result"
    }
   ],
   "source": [
    "fuzzer(1000, ord('a'), 26)"
   ]
  },
  {
   "cell_type": "code",
   "execution_count": 6,
   "id": "6ca035e0-5914-4e20-bfff-7018de646a2e",
   "metadata": {},
   "outputs": [],
   "source": [
    "# Create temp file\n",
    "FILE = \"input.txt\"\n",
    "with open(FILE, \"w\") as f:\n",
    "    f.write(\"2 + 2\\n\")\n"
   ]
  },
  {
   "cell_type": "code",
   "execution_count": 22,
   "id": "14c5fcea-37c8-49d8-9c25-fda19d216fc1",
   "metadata": {},
   "outputs": [],
   "source": [
    "# default stdin -> keyboard\n",
    "# default stdout, stderr -> print to terminal\n",
    "program = \"bc\"\n",
    "result = subprocess.run([program, FILE],\n",
    "                        stdin=subprocess.DEVNULL, # input given from python\n",
    "                        stdout=subprocess.PIPE,   # output should be returned to python rather than printed\n",
    "                        stderr=subprocess.PIPE,   # errors >>\n",
    "                        universal_newlines=True)  # output is treated as text and not as bytes"
   ]
  },
  {
   "cell_type": "code",
   "execution_count": 24,
   "id": "58a7a582-346b-435d-914d-983f13bcb620",
   "metadata": {},
   "outputs": [
    {
     "data": {
      "text/plain": [
       "'4\\n'"
      ]
     },
     "execution_count": 24,
     "metadata": {},
     "output_type": "execute_result"
    }
   ],
   "source": [
    "result.stdout"
   ]
  },
  {
   "cell_type": "code",
   "execution_count": 23,
   "id": "48b45a8b-44bb-4994-94bb-5857a513e3ff",
   "metadata": {},
   "outputs": [
    {
     "data": {
      "text/plain": [
       "''"
      ]
     },
     "execution_count": 23,
     "metadata": {},
     "output_type": "execute_result"
    }
   ],
   "source": [
    "result.stderr"
   ]
  },
  {
   "cell_type": "code",
   "execution_count": 25,
   "id": "13ecb377-c4f1-4b67-ad49-af49b80a4c1c",
   "metadata": {},
   "outputs": [],
   "source": [
    "# Fuzz\n",
    "trials = 1000\n",
    "program = \"bc\"\n",
    "\n",
    "runs = []\n",
    "\n",
    "for i in range(trials):\n",
    "    data = fuzzer()\n",
    "    with open(FILE, \"w\") as f:\n",
    "        f.write(data)\n",
    "    result = subprocess.run([program, FILE],\n",
    "                            stdin=subprocess.DEVNULL,\n",
    "                            stdout=subprocess.PIPE,\n",
    "                            stderr=subprocess.PIPE,\n",
    "                            universal_newlines=True)\n",
    "    runs.append((data, result))"
   ]
  },
  {
   "cell_type": "code",
   "execution_count": 34,
   "id": "2fe9840f-36c2-4980-91bd-eaaecf0244d0",
   "metadata": {},
   "outputs": [
    {
     "name": "stdout",
     "output_type": "stream",
     "text": [
      "915/1000 runs contain errors\n"
     ]
    }
   ],
   "source": [
    "num_errors = sum(1 for (data, result) in runs if result.stderr != \"\")\n",
    "print(\"%d/%d runs contain errors\"% (num_errors, trials))"
   ]
  },
  {
   "cell_type": "code",
   "execution_count": 35,
   "id": "239f81fe-9854-4290-91cd-4846d22bd797",
   "metadata": {},
   "outputs": [],
   "source": [
    "# Most inputs yield errors"
   ]
  },
  {
   "cell_type": "code",
   "execution_count": 40,
   "id": "3bf051de-85e4-483c-9d68-76399222f7c1",
   "metadata": {},
   "outputs": [
    {
     "name": "stdout",
     "output_type": "stream",
     "text": [
      "'%+(9>;&2+#<0/\"$,1#0! !=?6&*!*()3-2>,2&6+\"&68!+=\"/ !!6!540\\'5=%/-#2;3$'\n",
      "\n",
      "Parse error: bad token\n",
      "    input.txt:1\n",
      "\n",
      "\n"
     ]
    }
   ],
   "source": [
    "# Let's have a look at the first error\n",
    "(first_data, first_result) = runs[0]\n",
    "\n",
    "print(repr(first_data))\n",
    "print(first_result.stderr)"
   ]
  },
  {
   "cell_type": "code",
   "execution_count": 45,
   "id": "158933f2-f4b9-4b41-92bd-3f9e448a0005",
   "metadata": {},
   "outputs": [
    {
     "data": {
      "text/plain": [
       "[]"
      ]
     },
     "execution_count": 45,
     "metadata": {},
     "output_type": "execute_result"
    }
   ],
   "source": [
    "# All of them are parsing errors - No actual bugs found :(\n",
    "[result.stderr for (data, result) in runs if\n",
    " result.stderr != \"\"\n",
    " and \"illegal character\" not in result.stderr\n",
    " and \"Parse error\" not in result.stderr\n",
    " and \"syntax error\" not in result.stderr\n",
    " and \"divide by 0\" not in result.stderr]"
   ]
  },
  {
   "cell_type": "code",
   "execution_count": null,
   "id": "ca307b40-1eab-45b0-9d59-00461e03d660",
   "metadata": {},
   "outputs": [],
   "source": []
  }
 ],
 "metadata": {
  "kernelspec": {
   "display_name": "Python 3 (ipykernel)",
   "language": "python",
   "name": "python3"
  },
  "language_info": {
   "codemirror_mode": {
    "name": "ipython",
    "version": 3
   },
   "file_extension": ".py",
   "mimetype": "text/x-python",
   "name": "python",
   "nbconvert_exporter": "python",
   "pygments_lexer": "ipython3",
   "version": "3.12.3"
  }
 },
 "nbformat": 4,
 "nbformat_minor": 5
}
